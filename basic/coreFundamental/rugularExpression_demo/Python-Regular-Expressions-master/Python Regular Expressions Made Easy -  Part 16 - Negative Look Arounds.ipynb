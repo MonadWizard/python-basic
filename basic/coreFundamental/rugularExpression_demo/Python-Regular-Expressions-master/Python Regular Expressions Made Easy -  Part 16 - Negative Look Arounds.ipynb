{
 "cells": [
  {
   "cell_type": "code",
   "execution_count": null,
   "metadata": {
    "collapsed": false
   },
   "outputs": [],
   "source": [
    "Negative look ahead   ?!\n",
    "\n",
    "Negative look behind ?<!\n",
    "\n"
   ]
  },
  {
   "cell_type": "code",
   "execution_count": null,
   "metadata": {
    "collapsed": true
   },
   "outputs": [],
   "source": [
    "#Negative Look Ahead"
   ]
  },
  {
   "cell_type": "code",
   "execution_count": 4,
   "metadata": {
    "collapsed": true
   },
   "outputs": [],
   "source": [
    "import re"
   ]
  },
  {
   "cell_type": "code",
   "execution_count": 5,
   "metadata": {
    "collapsed": true
   },
   "outputs": [],
   "source": [
    "string = '''\n",
    "Remaining party applicants:\n",
    "\n",
    "Occupation: Party Planner\n",
    "Occupation: Baking\n",
    "Occupation: Cook\n",
    "Occupation: Publicist\n",
    "Occupation: Entertainer\n",
    "Occupation: Baker\n",
    "Occupation: baker\n",
    "Occupation: pierrot'''\n"
   ]
  },
  {
   "cell_type": "code",
   "execution_count": 6,
   "metadata": {
    "collapsed": false
   },
   "outputs": [],
   "source": [
    "pattern = re.compile('Occupation: (?!Baker|Baking|Cook).+', flags = re.IGNORECASE)"
   ]
  },
  {
   "cell_type": "code",
   "execution_count": 7,
   "metadata": {
    "collapsed": false
   },
   "outputs": [
    {
     "data": {
      "text/plain": [
       "['Occupation: Party Planner',\n",
       " 'Occupation: Publicist',\n",
       " 'Occupation: Entertainer',\n",
       " 'Occupation: pierrot']"
      ]
     },
     "execution_count": 7,
     "metadata": {},
     "output_type": "execute_result"
    }
   ],
   "source": [
    "re.findall(pattern, string)"
   ]
  },
  {
   "cell_type": "code",
   "execution_count": null,
   "metadata": {
    "collapsed": true
   },
   "outputs": [],
   "source": []
  },
  {
   "cell_type": "code",
   "execution_count": null,
   "metadata": {
    "collapsed": true
   },
   "outputs": [],
   "source": []
  },
  {
   "cell_type": "code",
   "execution_count": null,
   "metadata": {
    "collapsed": true
   },
   "outputs": [],
   "source": [
    "#Negative Look Behind"
   ]
  },
  {
   "cell_type": "code",
   "execution_count": 21,
   "metadata": {
    "collapsed": false
   },
   "outputs": [],
   "source": [
    "string = '''\n",
    "Full invitation list:\n",
    "\n",
    "Guest: Ashley Jackson\n",
    "Guest: Maria Jackson\n",
    "Guest: Bob Sanders\n",
    "Guest: Bill Smith\n",
    "Entertainer: Michael Johnson\n",
    "Baker: Chris Jackson\n",
    "Party Planner: Seema Patel\n",
    "Publist: Seema Patel\n",
    "Baker: Ashley Sanders'''"
   ]
  },
  {
   "cell_type": "code",
   "execution_count": 9,
   "metadata": {
    "collapsed": false
   },
   "outputs": [],
   "source": [
    "pattern = re.compile(r'(?<!Baker: )\\w+\\s\\w+', flags = re.IGNORECASE|re.M)"
   ]
  },
  {
   "cell_type": "code",
   "execution_count": 16,
   "metadata": {
    "collapsed": true
   },
   "outputs": [],
   "source": [
    "pattern = re.compile(r'(?<!Baker: )\\b\\w+\\s\\w+$', flags = re.IGNORECASE|re.M)"
   ]
  },
  {
   "cell_type": "code",
   "execution_count": 10,
   "metadata": {
    "collapsed": false
   },
   "outputs": [
    {
     "data": {
      "text/plain": [
       "['Full invitation',\n",
       " 'Ashley Jackson',\n",
       " 'Maria Jackson',\n",
       " 'Bob Sanders',\n",
       " 'Bill Smith',\n",
       " 'Michael Johnson',\n",
       " 'hris Jackson',\n",
       " 'Party Planner',\n",
       " 'Seema Patel',\n",
       " 'Seema Patel',\n",
       " 'shley Sanders']"
      ]
     },
     "execution_count": 10,
     "metadata": {},
     "output_type": "execute_result"
    }
   ],
   "source": [
    "re.findall(pattern, string)"
   ]
  },
  {
   "cell_type": "code",
   "execution_count": null,
   "metadata": {
    "collapsed": true
   },
   "outputs": [],
   "source": []
  },
  {
   "cell_type": "code",
   "execution_count": 30,
   "metadata": {
    "collapsed": true
   },
   "outputs": [],
   "source": [
    "import regex\n",
    "#Testing\n",
    "pattern = regex.compile(r'(?<!Baker: ) ', flags = re.IGNORECASE|re.M)"
   ]
  },
  {
   "cell_type": "code",
   "execution_count": 31,
   "metadata": {
    "collapsed": false
   },
   "outputs": [
    {
     "data": {
      "text/plain": [
       "['Full',\n",
       " 'invitation',\n",
       " 'list',\n",
       " 'Guest',\n",
       " 'Ashley',\n",
       " 'Jackson',\n",
       " 'Guest',\n",
       " 'Maria',\n",
       " 'Jackson',\n",
       " 'Guest',\n",
       " 'Bob',\n",
       " 'Sanders',\n",
       " 'Guest',\n",
       " 'Bill',\n",
       " 'Smith',\n",
       " 'Entertainer',\n",
       " 'Michael',\n",
       " 'Johnson',\n",
       " 'Baker',\n",
       " 'hris',\n",
       " 'Jackson',\n",
       " 'Party',\n",
       " 'Planner',\n",
       " 'Seema',\n",
       " 'Patel',\n",
       " 'Publist',\n",
       " 'Seema',\n",
       " 'Patel',\n",
       " 'Baker',\n",
       " 'shley',\n",
       " 'Sanders']"
      ]
     },
     "execution_count": 31,
     "metadata": {},
     "output_type": "execute_result"
    }
   ],
   "source": [
    "regex.findall(pattern, string)"
   ]
  },
  {
   "cell_type": "code",
   "execution_count": null,
   "metadata": {
    "collapsed": true
   },
   "outputs": [],
   "source": [
    "#If names have three words i.e. Maria Maria Jackson"
   ]
  },
  {
   "cell_type": "code",
   "execution_count": 20,
   "metadata": {
    "collapsed": true
   },
   "outputs": [],
   "source": [
    "string = '''\n",
    "Full invitation list:\n",
    "\n",
    "Guest: Ashley Jackson\n",
    "Guest: Maria Maria Jackson\n",
    "Guest: Bob Sanders\n",
    "Guest: Bill Smith\n",
    "Entertainer: Michael Johnson\n",
    "Baker: Chris Jackson\n",
    "Party Planner: Seema Patel\n",
    "Publist: Seema Patel\n",
    "Baker: Ashley Sanders'''"
   ]
  },
  {
   "cell_type": "code",
   "execution_count": 21,
   "metadata": {
    "collapsed": false
   },
   "outputs": [],
   "source": [
    "pattern = re.compile(r'(?<!Baker: )(\\b\\w+\\s\\w+$|\\b\\w+\\s\\w+\\s\\w+$)', flags = re.IGNORECASE|re.M)"
   ]
  },
  {
   "cell_type": "code",
   "execution_count": 22,
   "metadata": {
    "collapsed": false
   },
   "outputs": [
    {
     "data": {
      "text/plain": [
       "['Ashley Jackson',\n",
       " 'Maria Maria Jackson',\n",
       " 'Bob Sanders',\n",
       " 'Bill Smith',\n",
       " 'Michael Johnson',\n",
       " 'Seema Patel',\n",
       " 'Seema Patel']"
      ]
     },
     "execution_count": 22,
     "metadata": {},
     "output_type": "execute_result"
    }
   ],
   "source": [
    "re.findall(pattern, string)"
   ]
  },
  {
   "cell_type": "code",
   "execution_count": null,
   "metadata": {
    "collapsed": true
   },
   "outputs": [],
   "source": [
    "#Pull out entire phrase"
   ]
  },
  {
   "cell_type": "code",
   "execution_count": 23,
   "metadata": {
    "collapsed": false
   },
   "outputs": [],
   "source": [
    "pattern = re.compile(r'^(?!Baker: ).+\\w+$', flags = re.IGNORECASE|re.M)"
   ]
  },
  {
   "cell_type": "code",
   "execution_count": 27,
   "metadata": {
    "collapsed": true
   },
   "outputs": [],
   "source": [
    "pattern = re.compile(r'^(?!Baker: ).+\\w+$', flags = re.IGNORECASE|re.M)"
   ]
  },
  {
   "cell_type": "code",
   "execution_count": 28,
   "metadata": {
    "collapsed": false
   },
   "outputs": [
    {
     "data": {
      "text/plain": [
       "['Guest: Ashley Jackson',\n",
       " 'Guest: Maria Maria Jackson',\n",
       " 'Guest: Bob Sanders',\n",
       " 'Guest: Bill Smith',\n",
       " 'Entertainer: Michael Johnson',\n",
       " 'Party Planner: Seema Patel',\n",
       " 'Publist: Seema Patel']"
      ]
     },
     "execution_count": 28,
     "metadata": {},
     "output_type": "execute_result"
    }
   ],
   "source": [
    "re.findall(pattern, string)"
   ]
  },
  {
   "cell_type": "code",
   "execution_count": null,
   "metadata": {
    "collapsed": true
   },
   "outputs": [],
   "source": [
    "`"
   ]
  },
  {
   "cell_type": "code",
   "execution_count": null,
   "metadata": {
    "collapsed": true
   },
   "outputs": [],
   "source": []
  }
 ],
 "metadata": {
  "kernelspec": {
   "display_name": "Python 3",
   "language": "python",
   "name": "python3"
  },
  "language_info": {
   "codemirror_mode": {
    "name": "ipython",
    "version": 3
   },
   "file_extension": ".py",
   "mimetype": "text/x-python",
   "name": "python",
   "nbconvert_exporter": "python",
   "pygments_lexer": "ipython3",
   "version": "3.6.0"
  }
 },
 "nbformat": 4,
 "nbformat_minor": 1
}
