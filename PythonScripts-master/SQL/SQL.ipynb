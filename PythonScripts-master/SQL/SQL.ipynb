{
 "cells": [
  {
   "cell_type": "code",
   "execution_count": 1,
   "metadata": {},
   "outputs": [],
   "source": [
    "# importing module\n",
    "import sqlite3\n",
    "import os"
   ]
  },
  {
   "cell_type": "code",
   "execution_count": 3,
   "metadata": {
    "scrolled": false
   },
   "outputs": [],
   "source": [
    "# current working Folder\n",
    "scriptDir = os.path.dirname(os.path.realpath('__file__'))\n",
    "# connecting to the database \n",
    "connection = sqlite3.connect(scriptDir + os.path.sep + \"myTable.db\")"
   ]
  },
  {
   "cell_type": "code",
   "execution_count": 4,
   "metadata": {},
   "outputs": [],
   "source": [
    "# cursor \n",
    "crsr = connection.cursor()"
   ]
  },
  {
   "cell_type": "code",
   "execution_count": 19,
   "metadata": {},
   "outputs": [
    {
     "name": "stdout",
     "output_type": "stream",
     "text": [
      "(1, 'Nishant', 'Ghanate', 22, 71, 'Byculla')\n",
      "(2, 'Rinisha', 'Burriwar', 20, 13, 'Byculla')\n",
      "(3, 'Vikas', 'Rajbhar', 21, 40, 'Byculla')\n",
      "(4, 'Pankaj', 'Chaurasia', 21, 65, 'Chowpatty')\n",
      "(5, 'Rishabh', 'Sutravey', 23, 70, 'Mumbai central')\n",
      "(6, 'Sourabh', 'Sutravey', 20, 53, 'Mumbai central')\n",
      "(7, 'Abhishek', 'Gupta', 21, 18, 'Chinchpokli')\n",
      "(8, 'Shubham', 'Bonkar', 21, 47, 'Agripada')\n"
     ]
    }
   ],
   "source": [
    "sql = \"Select * FROM Student \"\n",
    "ans = list(crsr.execute(sql)) \n",
    "for a in ans:\n",
    "    print(a)\n",
    "   "
   ]
  },
  {
   "cell_type": "code",
   "execution_count": 12,
   "metadata": {},
   "outputs": [
    {
     "name": "stdout",
     "output_type": "stream",
     "text": [
      "(22,)\n",
      "(20,)\n",
      "(21,)\n",
      "(23,)\n"
     ]
    }
   ],
   "source": [
    "sql = \"Select DISTINCT Age FROM Student \"\n",
    "ans = list (crsr.execute(sql))\n",
    "for a in ans:\n",
    "    print(a)"
   ]
  },
  {
   "cell_type": "code",
   "execution_count": 13,
   "metadata": {},
   "outputs": [
    {
     "name": "stdout",
     "output_type": "stream",
     "text": [
      "[(4,)]\n"
     ]
    }
   ],
   "source": [
    "sql = \"Select COUNT(DISTINCT Age) FROM Student \"\n",
    "ans = crsr.execute(sql) \n",
    "print( list(ans) )"
   ]
  },
  {
   "cell_type": "code",
   "execution_count": 18,
   "metadata": {},
   "outputs": [
    {
     "name": "stdout",
     "output_type": "stream",
     "text": [
      "(1, 'Nishant', 'Ghanate', 22, 71, 'Byculla')\n",
      "(2, 'Rinisha', 'Burriwar', 20, 13, 'Byculla')\n",
      "(3, 'Vikas', 'Rajbhar', 21, 40, 'Byculla')\n"
     ]
    }
   ],
   "source": [
    "sql = \"Select * FROM Student WHERE Address = 'Byculla' \"\n",
    "ans = list(crsr.execute(sql))\n",
    "for a in ans:\n",
    "    print(a)\n",
    "    "
   ]
  },
  {
   "cell_type": "code",
   "execution_count": 16,
   "metadata": {},
   "outputs": [
    {
     "name": "stdout",
     "output_type": "stream",
     "text": [
      "[(1, 'Nishant', 'Ghanate', 22, 71, 'Byculla')]\n"
     ]
    }
   ],
   "source": [
    "sql = \"Select * FROM Student WHERE Address = 'Byculla' AND Age = 22\"\n",
    "ans = list(crsr.execute(sql))\n",
    "print(ans)"
   ]
  },
  {
   "cell_type": "code",
   "execution_count": 17,
   "metadata": {},
   "outputs": [
    {
     "name": "stdout",
     "output_type": "stream",
     "text": [
      "(4, 'Pankaj', 'Chaurasia', 21, 65, 'Chowpatty')\n",
      "(5, 'Rishabh', 'Sutravey', 23, 70, 'Mumbai central')\n",
      "(6, 'Sourabh', 'Sutravey', 20, 53, 'Mumbai central')\n",
      "(7, 'Abhishek', 'Gupta', 21, 18, 'Chinchpokli')\n",
      "(8, 'Shubham', 'Bonkar', 21, 47, 'Agripada')\n"
     ]
    }
   ],
   "source": [
    "sql = \"Select * FROM Student WHERE NOT Address = 'Byculla' \"\n",
    "ans = list(crsr.execute(sql))\n",
    "for a in ans:\n",
    "    print(a)\n",
    "    "
   ]
  },
  {
   "cell_type": "code",
   "execution_count": 20,
   "metadata": {},
   "outputs": [
    {
     "name": "stdout",
     "output_type": "stream",
     "text": [
      "(2, 'Rinisha', 'Burriwar', 20, 13, 'Byculla')\n",
      "(6, 'Sourabh', 'Sutravey', 20, 53, 'Mumbai central')\n",
      "(3, 'Vikas', 'Rajbhar', 21, 40, 'Byculla')\n",
      "(4, 'Pankaj', 'Chaurasia', 21, 65, 'Chowpatty')\n",
      "(7, 'Abhishek', 'Gupta', 21, 18, 'Chinchpokli')\n",
      "(8, 'Shubham', 'Bonkar', 21, 47, 'Agripada')\n",
      "(1, 'Nishant', 'Ghanate', 22, 71, 'Byculla')\n",
      "(5, 'Rishabh', 'Sutravey', 23, 70, 'Mumbai central')\n"
     ]
    }
   ],
   "source": [
    "sql = \"Select * FROM Student ORDER BY Age \"\n",
    "ans = list(crsr.execute(sql))\n",
    "for a in ans:\n",
    "    print(a)"
   ]
  },
  {
   "cell_type": "code",
   "execution_count": 21,
   "metadata": {},
   "outputs": [
    {
     "name": "stdout",
     "output_type": "stream",
     "text": [
      "(5, 'Rishabh', 'Sutravey', 23, 70, 'Mumbai central')\n",
      "(1, 'Nishant', 'Ghanate', 22, 71, 'Byculla')\n",
      "(3, 'Vikas', 'Rajbhar', 21, 40, 'Byculla')\n",
      "(4, 'Pankaj', 'Chaurasia', 21, 65, 'Chowpatty')\n",
      "(7, 'Abhishek', 'Gupta', 21, 18, 'Chinchpokli')\n",
      "(8, 'Shubham', 'Bonkar', 21, 47, 'Agripada')\n",
      "(2, 'Rinisha', 'Burriwar', 20, 13, 'Byculla')\n",
      "(6, 'Sourabh', 'Sutravey', 20, 53, 'Mumbai central')\n"
     ]
    }
   ],
   "source": [
    "sql = \"Select * FROM Student ORDER BY Age DESC \"\n",
    "ans = list(crsr.execute(sql))\n",
    "for a in ans:\n",
    "    print(a)"
   ]
  },
  {
   "cell_type": "code",
   "execution_count": 22,
   "metadata": {},
   "outputs": [],
   "source": [
    "sql_command = \"\"\"INSERT INTO Student VALUES (NULL,\"Alias\", \"Salias\",21, 05,\"Marine Lines\");\"\"\"\n",
    "crsr.execute(sql_command)\n",
    "\n",
    "# To save the changes in the files. Never skip this. \n",
    "# If we skip this, nothing will be saved in the database.\n",
    "connection.commit()"
   ]
  },
  {
   "cell_type": "code",
   "execution_count": 23,
   "metadata": {},
   "outputs": [
    {
     "name": "stdout",
     "output_type": "stream",
     "text": [
      "(1, 'Nishant', 'Ghanate', 22, 71, 'Byculla')\n",
      "(2, 'Rinisha', 'Burriwar', 20, 13, 'Byculla')\n",
      "(3, 'Vikas', 'Rajbhar', 21, 40, 'Byculla')\n",
      "(4, 'Pankaj', 'Chaurasia', 21, 65, 'Chowpatty')\n",
      "(5, 'Rishabh', 'Sutravey', 23, 70, 'Mumbai central')\n",
      "(6, 'Sourabh', 'Sutravey', 20, 53, 'Mumbai central')\n",
      "(7, 'Abhishek', 'Gupta', 21, 18, 'Chinchpokli')\n",
      "(8, 'Shubham', 'Bonkar', 21, 47, 'Agripada')\n",
      "(9, 'Alias', 'Salias', 21, 5, 'Marine Lines')\n"
     ]
    }
   ],
   "source": [
    "# execute the command to fetch all the data from the table emp\n",
    "crsr.execute(\"SELECT * FROM Student\") \n",
    " \n",
    "# store all the fetched data in the ans variable\n",
    "ans = crsr.fetchall() \n",
    " \n",
    "# loop to print all the data\n",
    "for i in ans:\n",
    "    print(i)"
   ]
  },
  {
   "cell_type": "code",
   "execution_count": 26,
   "metadata": {},
   "outputs": [
    {
     "name": "stdout",
     "output_type": "stream",
     "text": [
      "[(2, 'Rinisha', 'Burriwar', 20, 13, 'Byculla', 20)]\n"
     ]
    }
   ],
   "source": [
    "sql = \"Select *, MIN(Age) FROM Student  \"\n",
    "ans = list(crsr.execute(sql))\n",
    "print(ans)"
   ]
  },
  {
   "cell_type": "code",
   "execution_count": 27,
   "metadata": {},
   "outputs": [
    {
     "name": "stdout",
     "output_type": "stream",
     "text": [
      "[(5, 'Rishabh', 'Sutravey', 23, 70, 'Mumbai central', 23)]\n"
     ]
    }
   ],
   "source": [
    "sql = \"Select *, MAX(Age) FROM Student  \"\n",
    "ans = list(crsr.execute(sql))\n",
    "print(ans)"
   ]
  },
  {
   "cell_type": "code",
   "execution_count": 29,
   "metadata": {},
   "outputs": [
    {
     "name": "stdout",
     "output_type": "stream",
     "text": [
      "[(21.11111111111111,)]\n"
     ]
    }
   ],
   "source": [
    "sql = \"Select AVG(Age) FROM Student  \"\n",
    "ans = list(crsr.execute(sql))\n",
    "print(ans)"
   ]
  },
  {
   "cell_type": "code",
   "execution_count": 31,
   "metadata": {},
   "outputs": [
    {
     "name": "stdout",
     "output_type": "stream",
     "text": [
      "[(45,)]\n"
     ]
    }
   ],
   "source": [
    "sql = \"Select SUM(ID) FROM Student  \"\n",
    "ans = list(crsr.execute(sql))\n",
    "print(ans)"
   ]
  },
  {
   "cell_type": "code",
   "execution_count": 32,
   "metadata": {},
   "outputs": [
    {
     "name": "stdout",
     "output_type": "stream",
     "text": [
      "(1, 'Nishant', 'Ghanate', 22, 71, 'Byculla')\n"
     ]
    }
   ],
   "source": [
    "# Where Starting From N \n",
    "sql = \"Select * FROM Student WHERE FirstName LIKE 'N%' \"\n",
    "ans = list(crsr.execute(sql))\n",
    "for a in ans:\n",
    "    print(a)"
   ]
  },
  {
   "cell_type": "code",
   "execution_count": 34,
   "metadata": {},
   "outputs": [
    {
     "name": "stdout",
     "output_type": "stream",
     "text": [
      "(1, 'Nishant', 'Ghanate', 22, 71, 'Byculla')\n"
     ]
    }
   ],
   "source": [
    "# Where ending from t\n",
    "sql = \"Select * FROM Student WHERE FirstName LIKE '%t' \"\n",
    "ans = list(crsr.execute(sql))\n",
    "for a in ans:\n",
    "    print(a)"
   ]
  },
  {
   "cell_type": "code",
   "execution_count": 35,
   "metadata": {},
   "outputs": [
    {
     "name": "stdout",
     "output_type": "stream",
     "text": [
      "(1, 'Nishant', 'Ghanate', 22, 71, 'Byculla')\n",
      "(2, 'Rinisha', 'Burriwar', 20, 13, 'Byculla')\n",
      "(5, 'Rishabh', 'Sutravey', 23, 70, 'Mumbai central')\n"
     ]
    }
   ],
   "source": [
    "# Where substring contains isha \n",
    "sql = \"Select * FROM Student WHERE FirstName LIKE '%isha%' \"\n",
    "ans = list(crsr.execute(sql))\n",
    "for a in ans:\n",
    "    print(a)"
   ]
  },
  {
   "cell_type": "code",
   "execution_count": 36,
   "metadata": {},
   "outputs": [
    {
     "name": "stdout",
     "output_type": "stream",
     "text": [
      "(1, 'Nishant', 'Ghanate', 22, 71, 'Byculla')\n",
      "(2, 'Rinisha', 'Burriwar', 20, 13, 'Byculla')\n",
      "(3, 'Vikas', 'Rajbhar', 21, 40, 'Byculla')\n",
      "(5, 'Rishabh', 'Sutravey', 23, 70, 'Mumbai central')\n"
     ]
    }
   ],
   "source": [
    "# Where second char contains i  \n",
    "sql = \"Select * FROM Student WHERE FirstName LIKE '_i%' \"\n",
    "ans = list(crsr.execute(sql))\n",
    "for a in ans:\n",
    "    print(a)"
   ]
  },
  {
   "cell_type": "code",
   "execution_count": 37,
   "metadata": {},
   "outputs": [
    {
     "name": "stdout",
     "output_type": "stream",
     "text": [
      "(1, 'Nishant', 'Ghanate', 22, 71, 'Byculla')\n"
     ]
    }
   ],
   "source": [
    "# Where name start with N and atleast len = 3 \n",
    "sql = \"Select * FROM Student WHERE FirstName LIKE 'N_%_%' \"\n",
    "ans = list(crsr.execute(sql))\n",
    "for a in ans:\n",
    "    print(a)"
   ]
  },
  {
   "cell_type": "code",
   "execution_count": 40,
   "metadata": {},
   "outputs": [
    {
     "name": "stdout",
     "output_type": "stream",
     "text": [
      "(2, 'Rinisha', 'Burriwar', 20, 13, 'Byculla')\n"
     ]
    }
   ],
   "source": [
    "# Where name start with R and end with B\n",
    "sql = \"Select * FROM Student WHERE FirstName LIKE 'R%A' \"\n",
    "ans = list(crsr.execute(sql))\n",
    "for a in ans:\n",
    "    print(a)"
   ]
  },
  {
   "cell_type": "code",
   "execution_count": null,
   "metadata": {},
   "outputs": [],
   "source": []
  }
 ],
 "metadata": {
  "kernelspec": {
   "display_name": "Python 3",
   "language": "python",
   "name": "python3"
  },
  "language_info": {
   "codemirror_mode": {
    "name": "ipython",
    "version": 3
   },
   "file_extension": ".py",
   "mimetype": "text/x-python",
   "name": "python",
   "nbconvert_exporter": "python",
   "pygments_lexer": "ipython3",
   "version": "3.6.5"
  }
 },
 "nbformat": 4,
 "nbformat_minor": 2
}
